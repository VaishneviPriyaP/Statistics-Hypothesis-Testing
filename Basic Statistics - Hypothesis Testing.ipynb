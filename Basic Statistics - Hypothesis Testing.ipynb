{
 "cells": [
  {
   "cell_type": "markdown",
   "id": "f32746a2",
   "metadata": {},
   "source": [
    "## BUSINESS PROBLEM-1 - Lending Club Loans Data"
   ]
  },
  {
   "cell_type": "code",
   "execution_count": 2,
   "id": "fe471ec1",
   "metadata": {},
   "outputs": [],
   "source": [
    "import pandas as pd \n",
    "import numpy as np\n",
    "import matplotlib.pyplot as plt\n",
    "import seaborn as sns\n",
    "import scipy.stats as stats"
   ]
  },
  {
   "cell_type": "code",
   "execution_count": 33,
   "id": "e36d75d0",
   "metadata": {},
   "outputs": [
    {
     "data": {
      "text/html": [
       "<div>\n",
       "<style scoped>\n",
       "    .dataframe tbody tr th:only-of-type {\n",
       "        vertical-align: middle;\n",
       "    }\n",
       "\n",
       "    .dataframe tbody tr th {\n",
       "        vertical-align: top;\n",
       "    }\n",
       "\n",
       "    .dataframe thead th {\n",
       "        text-align: right;\n",
       "    }\n",
       "</style>\n",
       "<table border=\"1\" class=\"dataframe\">\n",
       "  <thead>\n",
       "    <tr style=\"text-align: right;\">\n",
       "      <th></th>\n",
       "      <th>Amount.Requested</th>\n",
       "      <th>Amount.Funded.By.Investors</th>\n",
       "      <th>Interest.Rate</th>\n",
       "      <th>Loan.Length</th>\n",
       "      <th>Loan.Purpose</th>\n",
       "      <th>Debt.To.Income.Ratio</th>\n",
       "      <th>State</th>\n",
       "      <th>Home.Ownership</th>\n",
       "      <th>Monthly.Income</th>\n",
       "      <th>FICO.Range</th>\n",
       "      <th>Open.CREDIT.Lines</th>\n",
       "      <th>Revolving.CREDIT.Balance</th>\n",
       "      <th>Inquiries.in.the.Last.6.Months</th>\n",
       "      <th>Employment.Length</th>\n",
       "    </tr>\n",
       "  </thead>\n",
       "  <tbody>\n",
       "    <tr>\n",
       "      <th>0</th>\n",
       "      <td>20000.0</td>\n",
       "      <td>20000.0</td>\n",
       "      <td>8.90%</td>\n",
       "      <td>36 months</td>\n",
       "      <td>debt_consolidation</td>\n",
       "      <td>14.90%</td>\n",
       "      <td>SC</td>\n",
       "      <td>MORTGAGE</td>\n",
       "      <td>6541.67</td>\n",
       "      <td>735-739</td>\n",
       "      <td>14.0</td>\n",
       "      <td>14272.0</td>\n",
       "      <td>2.0</td>\n",
       "      <td>&lt; 1 year</td>\n",
       "    </tr>\n",
       "    <tr>\n",
       "      <th>1</th>\n",
       "      <td>19200.0</td>\n",
       "      <td>19200.0</td>\n",
       "      <td>12.12%</td>\n",
       "      <td>36 months</td>\n",
       "      <td>debt_consolidation</td>\n",
       "      <td>28.36%</td>\n",
       "      <td>TX</td>\n",
       "      <td>MORTGAGE</td>\n",
       "      <td>4583.33</td>\n",
       "      <td>715-719</td>\n",
       "      <td>12.0</td>\n",
       "      <td>11140.0</td>\n",
       "      <td>1.0</td>\n",
       "      <td>2 years</td>\n",
       "    </tr>\n",
       "    <tr>\n",
       "      <th>2</th>\n",
       "      <td>35000.0</td>\n",
       "      <td>35000.0</td>\n",
       "      <td>21.98%</td>\n",
       "      <td>60 months</td>\n",
       "      <td>debt_consolidation</td>\n",
       "      <td>23.81%</td>\n",
       "      <td>CA</td>\n",
       "      <td>MORTGAGE</td>\n",
       "      <td>11500.00</td>\n",
       "      <td>690-694</td>\n",
       "      <td>14.0</td>\n",
       "      <td>21977.0</td>\n",
       "      <td>1.0</td>\n",
       "      <td>2 years</td>\n",
       "    </tr>\n",
       "    <tr>\n",
       "      <th>3</th>\n",
       "      <td>10000.0</td>\n",
       "      <td>9975.0</td>\n",
       "      <td>9.99%</td>\n",
       "      <td>36 months</td>\n",
       "      <td>debt_consolidation</td>\n",
       "      <td>14.30%</td>\n",
       "      <td>KS</td>\n",
       "      <td>MORTGAGE</td>\n",
       "      <td>3833.33</td>\n",
       "      <td>695-699</td>\n",
       "      <td>10.0</td>\n",
       "      <td>9346.0</td>\n",
       "      <td>0.0</td>\n",
       "      <td>5 years</td>\n",
       "    </tr>\n",
       "    <tr>\n",
       "      <th>4</th>\n",
       "      <td>12000.0</td>\n",
       "      <td>12000.0</td>\n",
       "      <td>11.71%</td>\n",
       "      <td>36 months</td>\n",
       "      <td>credit_card</td>\n",
       "      <td>18.78%</td>\n",
       "      <td>NJ</td>\n",
       "      <td>RENT</td>\n",
       "      <td>3195.00</td>\n",
       "      <td>695-699</td>\n",
       "      <td>11.0</td>\n",
       "      <td>14469.0</td>\n",
       "      <td>0.0</td>\n",
       "      <td>9 years</td>\n",
       "    </tr>\n",
       "  </tbody>\n",
       "</table>\n",
       "</div>"
      ],
      "text/plain": [
       "   Amount.Requested  Amount.Funded.By.Investors Interest.Rate Loan.Length  \\\n",
       "0           20000.0                     20000.0         8.90%   36 months   \n",
       "1           19200.0                     19200.0        12.12%   36 months   \n",
       "2           35000.0                     35000.0        21.98%   60 months   \n",
       "3           10000.0                      9975.0         9.99%   36 months   \n",
       "4           12000.0                     12000.0        11.71%   36 months   \n",
       "\n",
       "         Loan.Purpose Debt.To.Income.Ratio State Home.Ownership  \\\n",
       "0  debt_consolidation               14.90%    SC       MORTGAGE   \n",
       "1  debt_consolidation               28.36%    TX       MORTGAGE   \n",
       "2  debt_consolidation               23.81%    CA       MORTGAGE   \n",
       "3  debt_consolidation               14.30%    KS       MORTGAGE   \n",
       "4         credit_card               18.78%    NJ           RENT   \n",
       "\n",
       "   Monthly.Income FICO.Range  Open.CREDIT.Lines  Revolving.CREDIT.Balance  \\\n",
       "0         6541.67    735-739               14.0                   14272.0   \n",
       "1         4583.33    715-719               12.0                   11140.0   \n",
       "2        11500.00    690-694               14.0                   21977.0   \n",
       "3         3833.33    695-699               10.0                    9346.0   \n",
       "4         3195.00    695-699               11.0                   14469.0   \n",
       "\n",
       "   Inquiries.in.the.Last.6.Months Employment.Length  \n",
       "0                             2.0          < 1 year  \n",
       "1                             1.0           2 years  \n",
       "2                             1.0           2 years  \n",
       "3                             0.0           5 years  \n",
       "4                             0.0           9 years  "
      ]
     },
     "metadata": {},
     "output_type": "display_data"
    },
    {
     "name": "stdout",
     "output_type": "stream",
     "text": [
      "<class 'pandas.core.frame.DataFrame'>\n",
      "RangeIndex: 2500 entries, 0 to 2499\n",
      "Data columns (total 14 columns):\n",
      " #   Column                          Non-Null Count  Dtype  \n",
      "---  ------                          --------------  -----  \n",
      " 0   Amount.Requested                2499 non-null   float64\n",
      " 1   Amount.Funded.By.Investors      2499 non-null   float64\n",
      " 2   Interest.Rate                   2498 non-null   object \n",
      " 3   Loan.Length                     2500 non-null   object \n",
      " 4   Loan.Purpose                    2500 non-null   object \n",
      " 5   Debt.To.Income.Ratio            2499 non-null   object \n",
      " 6   State                           2500 non-null   object \n",
      " 7   Home.Ownership                  2499 non-null   object \n",
      " 8   Monthly.Income                  2499 non-null   float64\n",
      " 9   FICO.Range                      2498 non-null   object \n",
      " 10  Open.CREDIT.Lines               2497 non-null   float64\n",
      " 11  Revolving.CREDIT.Balance        2497 non-null   float64\n",
      " 12  Inquiries.in.the.Last.6.Months  2497 non-null   float64\n",
      " 13  Employment.Length               2423 non-null   object \n",
      "dtypes: float64(6), object(8)\n",
      "memory usage: 273.6+ KB\n"
     ]
    }
   ],
   "source": [
    "# Importing the data\n",
    "LoansData = pd.read_csv(\"C:\\\\Users\\\\ayirp\\\\Desktop\\\\DataAnalysis\\\\Python\\\\AnalytixLabs\\\\PythonCaseStudy\\\\Basic Statistics - Hypothesis Testing\\\\LoansData.csv\")\n",
    "\n",
    "# Displaying the data and checking their datatype\n",
    "display(LoansData.head())\n",
    "LoansData.info()\n",
    "\n"
   ]
  },
  {
   "cell_type": "code",
   "execution_count": 34,
   "id": "7ab8484f",
   "metadata": {},
   "outputs": [],
   "source": [
    "#Assigning the correct column names of the data\n",
    "LoansData.rename( {'Amount.Requested': 'Amt_Requested', 'Amount.Funded.By.Investors': 'Amt_Funded_By_Investors', 'Interest.Rate': 'Interest_Rate',\n",
    "       'Loan.Length': 'Loan_Length_Month', 'Loan.Purpose': 'Loan_Purpose', 'Debt.To.Income.Ratio': 'Debt_To_Inc_Ratio',\n",
    "       'Home.Ownership': 'Home_Ownership', 'Monthly.Income':'Monthly_Inc', 'FICO.Range':'FICO_Range', 'Open.CREDIT.Lines':'Open_CREDIT_Lines',\n",
    "       'Revolving.CREDIT.Balance': 'Revolving_CREDIT_Bal' , 'Inquiries.in.the.Last.6.Months':'Inquiries_Last_6months',\n",
    "       'Employment.Length':'Employment_Length'}, axis= 1 , inplace= True)"
   ]
  },
  {
   "cell_type": "code",
   "execution_count": 35,
   "id": "59de15f7",
   "metadata": {},
   "outputs": [
    {
     "data": {
      "text/plain": [
       "Amt_Requested              float64\n",
       "Amt_Funded_By_Investors    float64\n",
       "Interest_Rate              float64\n",
       "Loan_Length_Month          float64\n",
       "Loan_Purpose                object\n",
       "Debt_To_Inc_Ratio          float64\n",
       "State                       object\n",
       "Home_Ownership              object\n",
       "Monthly_Inc                float64\n",
       "FICO_Range                  object\n",
       "Open_CREDIT_Lines          float64\n",
       "Revolving_CREDIT_Bal       float64\n",
       "Inquiries_Last_6months     float64\n",
       "Employment_Length           object\n",
       "dtype: object"
      ]
     },
     "execution_count": 35,
     "metadata": {},
     "output_type": "execute_result"
    }
   ],
   "source": [
    "# Stripping the % sign and converting Interest.Rate into float\n",
    "LoansData['Interest_Rate'] =  pd.to_numeric(LoansData.Interest_Rate.str.replace(\"%\",\"\") ,errors ='coerce')\n",
    "\n",
    "LoansData.Debt_To_Inc_Ratio = LoansData.Debt_To_Inc_Ratio.str.replace(\"%\", '').astype('float')\n",
    "\n",
    "# loan length col\n",
    "LoansData.Loan_Length_Month = LoansData.Loan_Length_Month.str.replace(\"months\", '').astype('float')\n",
    "\n",
    "LoansData.dtypes"
   ]
  },
  {
   "cell_type": "code",
   "execution_count": 40,
   "id": "dab3521b",
   "metadata": {},
   "outputs": [
    {
     "data": {
      "text/plain": [
       "Amt_Requested               1\n",
       "Amt_Funded_By_Investors     1\n",
       "Interest_Rate               2\n",
       "Loan_Length_Month           0\n",
       "Loan_Purpose                0\n",
       "Debt_To_Inc_Ratio           1\n",
       "State                       0\n",
       "Home_Ownership              1\n",
       "Monthly_Inc                 1\n",
       "FICO_Range                  2\n",
       "Open_CREDIT_Lines           3\n",
       "Revolving_CREDIT_Bal        3\n",
       "Inquiries_Last_6months      3\n",
       "Employment_Length          77\n",
       "dtype: int64"
      ]
     },
     "execution_count": 40,
     "metadata": {},
     "output_type": "execute_result"
    }
   ],
   "source": [
    "# Checking for null values\n",
    "LoansData.isnull().sum()"
   ]
  },
  {
   "cell_type": "code",
   "execution_count": 41,
   "id": "ab0a75c6",
   "metadata": {},
   "outputs": [],
   "source": [
    "# Dropping the null vales\n",
    "LoansData.dropna( inplace= True)"
   ]
  },
  {
   "cell_type": "markdown",
   "id": "5d5acaab",
   "metadata": {},
   "source": [
    "### a. Interest rate is varied for different loan amounts (Less interest charged for high loan amounts)"
   ]
  },
  {
   "cell_type": "code",
   "execution_count": 47,
   "id": "f2fdf16a",
   "metadata": {},
   "outputs": [
    {
     "name": "stdout",
     "output_type": "stream",
     "text": [
      "Performing the Pearson's Co-efficient Correlation Test\n"
     ]
    },
    {
     "data": {
      "text/plain": [
       "(0.3315955311036452, 5.064256950483673e-63)"
      ]
     },
     "metadata": {},
     "output_type": "display_data"
    },
    {
     "name": "stdout",
     "output_type": "stream",
     "text": [
      "The pvalue generated is 5.064 , which is greater than the assumed pvalue = 0.05. Hence, we ACCEPT the Null Hypothesis; i.e Interest rate and loan amounts are independent \n"
     ]
    }
   ],
   "source": [
    "### Interest Rate :Interest_Rate - 1 continuous variable\n",
    "### Loam Amount  : Amt_Funded_By_Investors  - 1 continuous variable\n",
    "\n",
    "# To determine the relationship between 2 Continuous variables ,we can use the Pearson's Co-efficient Correlation\n",
    "\n",
    "# HYPOTHESIS\n",
    "\n",
    "\n",
    "# 1) H0 = Intrest rate is not varied for different loan amounts , i.e Interest rate and loan amounts are independent\n",
    "# 2) Ha = Intrest rate is varied for different loan amounts , i.e Interest rate and loan amounts are dependent\n",
    "# 3) CI = 95% ; pvalue = 0.05\n",
    "# 4) Perform Pearson's Co-efficient Correlation Test\n",
    "\n",
    "print(\"Performing the Pearson's Co-efficient Correlation Test\")\n",
    "display(stats.pearsonr(LoansData.Interest_Rate, LoansData.Amt_Funded_By_Investors))\n",
    "\n",
    "print(\"The pvalue generated is 5.064e-63 , which is lesser than the assumed pvalue = 0.05. Hence, we REJECT the Null Hypothesis; i.e Interest rate and loan amounts are dependent \")"
   ]
  },
  {
   "cell_type": "markdown",
   "id": "aaeac42a",
   "metadata": {},
   "source": [
    "### b. Loan length is directly effecting interest rate."
   ]
  },
  {
   "cell_type": "code",
   "execution_count": 54,
   "id": "ff4c63af",
   "metadata": {},
   "outputs": [
    {
     "data": {
      "text/plain": [
       "SpearmanrResult(correlation=0.3908052595510681, pvalue=7.062041111844215e-89)"
      ]
     },
     "metadata": {},
     "output_type": "display_data"
    },
    {
     "name": "stdout",
     "output_type": "stream",
     "text": [
      "The correlation generated is 0.3908 , which is positive (closer to 0 , so weak relationship) . A positive correlation means that as one variable increases, the other variable also tends to increase.\n"
     ]
    }
   ],
   "source": [
    "### Loan_Length_Month : 1 continuous variable\n",
    "### Interest_Rate : 1 continuous variable \n",
    "\n",
    "# To determine the relationship between 2 Continuous variables ,we can use the Spearman’s Coefficient Correlation\n",
    "\n",
    "# HYPOTHESIS\n",
    "\n",
    "\n",
    "# 1) H0 = Loan Length is not directly affecting the Interest Rate , i.e Loan length and Interest rate are independent\n",
    "# 2) Ha =  Loan Length is directly affecting the Interest Rate , i.e Loan length and Interest rate are dependent\n",
    "# 3) CI = 95% ; pvalue = 0.05\n",
    "# 4) Perform Spearman’s Correlation Coefficient\n",
    "\n",
    "display(stats.spearmanr(LoansData.Loan_Length_Month, LoansData.Interest_Rate))\n",
    "\n",
    "print(\"The correlation generated is 0.3908 , which is positive (closer to 0 , so weak relationship) . A positive correlation means that as one variable increases, the other variable also tends to increase.\")\n"
   ]
  },
  {
   "cell_type": "markdown",
   "id": "c821bfd2",
   "metadata": {},
   "source": [
    "### c. Interest rate varies for different purpose of loans"
   ]
  },
  {
   "cell_type": "code",
   "execution_count": 71,
   "id": "144f7cf5",
   "metadata": {},
   "outputs": [
    {
     "data": {
      "text/plain": [
       "'The different loan purposes are:'"
      ]
     },
     "metadata": {},
     "output_type": "display_data"
    },
    {
     "data": {
      "text/plain": [
       "array(['debt_consolidation', 'credit_card', 'other', 'moving', 'car',\n",
       "       'vacation', 'home_improvement', 'house', 'major_purchase',\n",
       "       'educational', 'medical', 'wedding', 'small_business',\n",
       "       'renewable_energy'], dtype=object)"
      ]
     },
     "metadata": {},
     "output_type": "display_data"
    },
    {
     "data": {
      "text/plain": [
       "F_onewayResult(statistic=7.330838185919651, pvalue=2.7646672581411367e-14)"
      ]
     },
     "metadata": {},
     "output_type": "display_data"
    },
    {
     "name": "stdout",
     "output_type": "stream",
     "text": [
      "The pvalue generated is 2.7646e-14 , which is less when compared to the assumed pvalue ,0.05. Hence we REJECT the Null hypothesis. So, we can conclude that Interest_Rate is not same for different Loan_Purpose \n"
     ]
    }
   ],
   "source": [
    "LoansData.head()\n",
    "\n",
    "### Interest_Rate : 1 continuous variable\n",
    "### Loan_Purpose : 1 categorical variable\n",
    "\n",
    "# To determine the relationship between 1 continuous and 1 categorical variables ,we can use the F - Test / ANOVA Test\n",
    "\n",
    "# HYPOTHESIS\n",
    "\n",
    "\n",
    "# 1) H0 = Interest_Rate is same for different Loan_Purpose \n",
    "# 2) Ha = Interest_Rate is not same for different Loan_Purpose \n",
    "# 3) CI = 95% ; pvalue = 0.05\n",
    "# 4) Perform F - Test / ANOVA\n",
    "\n",
    "different_loan_purposes = LoansData.Loan_Purpose.unique()\n",
    "display(\"The different loan purposes are:\",different_loan_purposes)\n",
    "\n",
    "# getting loans for each loan purposes\n",
    "s1 = LoansData.loc[ LoansData.Loan_Purpose == 'debt_consolidation', 'Interest_Rate' ]\n",
    "s2 = LoansData.loc[ LoansData.Loan_Purpose == 'credit_card', 'Interest_Rate' ]\n",
    "s3 = LoansData.loc[ LoansData.Loan_Purpose == 'other', 'Interest_Rate' ]\n",
    "s4 = LoansData.loc[ LoansData.Loan_Purpose == 'moving', 'Interest_Rate' ]\n",
    "s5 = LoansData.loc[ LoansData.Loan_Purpose == 'car', 'Interest_Rate' ]\n",
    "s6 = LoansData.loc[ LoansData.Loan_Purpose == 'vacation', 'Interest_Rate' ]\n",
    "s7 = LoansData.loc[ LoansData.Loan_Purpose == 'home_improvement', 'Interest_Rate' ]\n",
    "s8 = LoansData.loc[ LoansData.Loan_Purpose == 'house', 'Interest_Rate' ]\n",
    "s9 = LoansData.loc[ LoansData.Loan_Purpose == 'major_purchase', 'Interest_Rate' ]\n",
    "s10 =LoansData.loc[LoansData.Loan_Purpose == 'educational', 'Interest_Rate' ]\n",
    "s11 =LoansData.loc[LoansData.Loan_Purpose == 'medical', 'Interest_Rate' ]\n",
    "s12 =LoansData.loc[LoansData.Loan_Purpose == 'wedding', 'Interest_Rate' ]\n",
    "s13 =LoansData.loc[LoansData.Loan_Purpose == 'small_business', 'Interest_Rate' ]\n",
    "s14 =LoansData.loc[LoansData.Loan_Purpose == 'renewable_energy', 'Interest_Rate' ]\n",
    "\n",
    "display(stats.f_oneway(s1,s2,s3,s4,s5,s6,s7,s8,s9,s10,s11,s12,s13,s14))\n",
    "\n",
    "print(\"The pvalue generated is 2.7646e-14 , which is less when compared to the assumed pvalue ,0.05. Hence we REJECT the Null hypothesis. So, we can conclude that Interest_Rate is not same for different Loan_Purpose \")"
   ]
  },
  {
   "cell_type": "markdown",
   "id": "1d57b44e",
   "metadata": {},
   "source": [
    "### d. There is a relationship between FICO scores and Home Ownership. It means that, People with owning home will have high FICO scores."
   ]
  },
  {
   "cell_type": "code",
   "execution_count": 83,
   "id": "7f718d0a",
   "metadata": {},
   "outputs": [
    {
     "data": {
      "text/html": [
       "<div>\n",
       "<style scoped>\n",
       "    .dataframe tbody tr th:only-of-type {\n",
       "        vertical-align: middle;\n",
       "    }\n",
       "\n",
       "    .dataframe tbody tr th {\n",
       "        vertical-align: top;\n",
       "    }\n",
       "\n",
       "    .dataframe thead th {\n",
       "        text-align: right;\n",
       "    }\n",
       "</style>\n",
       "<table border=\"1\" class=\"dataframe\">\n",
       "  <thead>\n",
       "    <tr style=\"text-align: right;\">\n",
       "      <th></th>\n",
       "      <th>Amt_Requested</th>\n",
       "      <th>Amt_Funded_By_Investors</th>\n",
       "      <th>Interest_Rate</th>\n",
       "      <th>Loan_Length_Month</th>\n",
       "      <th>Loan_Purpose</th>\n",
       "      <th>Debt_To_Inc_Ratio</th>\n",
       "      <th>State</th>\n",
       "      <th>Home_Ownership</th>\n",
       "      <th>Monthly_Inc</th>\n",
       "      <th>FICO_Range</th>\n",
       "      <th>Open_CREDIT_Lines</th>\n",
       "      <th>Revolving_CREDIT_Bal</th>\n",
       "      <th>Inquiries_Last_6months</th>\n",
       "      <th>Employment_Length</th>\n",
       "    </tr>\n",
       "  </thead>\n",
       "  <tbody>\n",
       "    <tr>\n",
       "      <th>0</th>\n",
       "      <td>20000.0</td>\n",
       "      <td>20000.0</td>\n",
       "      <td>8.90</td>\n",
       "      <td>36.0</td>\n",
       "      <td>debt_consolidation</td>\n",
       "      <td>14.90</td>\n",
       "      <td>SC</td>\n",
       "      <td>MORTGAGE</td>\n",
       "      <td>6541.67</td>\n",
       "      <td>735-739</td>\n",
       "      <td>14.0</td>\n",
       "      <td>14272.0</td>\n",
       "      <td>2.0</td>\n",
       "      <td>&lt; 1 year</td>\n",
       "    </tr>\n",
       "    <tr>\n",
       "      <th>1</th>\n",
       "      <td>19200.0</td>\n",
       "      <td>19200.0</td>\n",
       "      <td>12.12</td>\n",
       "      <td>36.0</td>\n",
       "      <td>debt_consolidation</td>\n",
       "      <td>28.36</td>\n",
       "      <td>TX</td>\n",
       "      <td>MORTGAGE</td>\n",
       "      <td>4583.33</td>\n",
       "      <td>715-719</td>\n",
       "      <td>12.0</td>\n",
       "      <td>11140.0</td>\n",
       "      <td>1.0</td>\n",
       "      <td>2 years</td>\n",
       "    </tr>\n",
       "    <tr>\n",
       "      <th>2</th>\n",
       "      <td>35000.0</td>\n",
       "      <td>35000.0</td>\n",
       "      <td>21.98</td>\n",
       "      <td>60.0</td>\n",
       "      <td>debt_consolidation</td>\n",
       "      <td>23.81</td>\n",
       "      <td>CA</td>\n",
       "      <td>MORTGAGE</td>\n",
       "      <td>11500.00</td>\n",
       "      <td>690-694</td>\n",
       "      <td>14.0</td>\n",
       "      <td>21977.0</td>\n",
       "      <td>1.0</td>\n",
       "      <td>2 years</td>\n",
       "    </tr>\n",
       "    <tr>\n",
       "      <th>3</th>\n",
       "      <td>10000.0</td>\n",
       "      <td>9975.0</td>\n",
       "      <td>9.99</td>\n",
       "      <td>36.0</td>\n",
       "      <td>debt_consolidation</td>\n",
       "      <td>14.30</td>\n",
       "      <td>KS</td>\n",
       "      <td>MORTGAGE</td>\n",
       "      <td>3833.33</td>\n",
       "      <td>695-699</td>\n",
       "      <td>10.0</td>\n",
       "      <td>9346.0</td>\n",
       "      <td>0.0</td>\n",
       "      <td>5 years</td>\n",
       "    </tr>\n",
       "    <tr>\n",
       "      <th>4</th>\n",
       "      <td>12000.0</td>\n",
       "      <td>12000.0</td>\n",
       "      <td>11.71</td>\n",
       "      <td>36.0</td>\n",
       "      <td>credit_card</td>\n",
       "      <td>18.78</td>\n",
       "      <td>NJ</td>\n",
       "      <td>RENT</td>\n",
       "      <td>3195.00</td>\n",
       "      <td>695-699</td>\n",
       "      <td>11.0</td>\n",
       "      <td>14469.0</td>\n",
       "      <td>0.0</td>\n",
       "      <td>9 years</td>\n",
       "    </tr>\n",
       "  </tbody>\n",
       "</table>\n",
       "</div>"
      ],
      "text/plain": [
       "   Amt_Requested  Amt_Funded_By_Investors  Interest_Rate  Loan_Length_Month  \\\n",
       "0        20000.0                  20000.0           8.90               36.0   \n",
       "1        19200.0                  19200.0          12.12               36.0   \n",
       "2        35000.0                  35000.0          21.98               60.0   \n",
       "3        10000.0                   9975.0           9.99               36.0   \n",
       "4        12000.0                  12000.0          11.71               36.0   \n",
       "\n",
       "         Loan_Purpose  Debt_To_Inc_Ratio State Home_Ownership  Monthly_Inc  \\\n",
       "0  debt_consolidation              14.90    SC       MORTGAGE      6541.67   \n",
       "1  debt_consolidation              28.36    TX       MORTGAGE      4583.33   \n",
       "2  debt_consolidation              23.81    CA       MORTGAGE     11500.00   \n",
       "3  debt_consolidation              14.30    KS       MORTGAGE      3833.33   \n",
       "4         credit_card              18.78    NJ           RENT      3195.00   \n",
       "\n",
       "  FICO_Range  Open_CREDIT_Lines  Revolving_CREDIT_Bal  Inquiries_Last_6months  \\\n",
       "0    735-739               14.0               14272.0                     2.0   \n",
       "1    715-719               12.0               11140.0                     1.0   \n",
       "2    690-694               14.0               21977.0                     1.0   \n",
       "3    695-699               10.0                9346.0                     0.0   \n",
       "4    695-699               11.0               14469.0                     0.0   \n",
       "\n",
       "  Employment_Length  \n",
       "0          < 1 year  \n",
       "1           2 years  \n",
       "2           2 years  \n",
       "3           5 years  \n",
       "4           9 years  "
      ]
     },
     "metadata": {},
     "output_type": "display_data"
    },
    {
     "data": {
      "text/plain": [
       "array(['MORTGAGE', 'RENT', 'OWN', 'OTHER'], dtype=object)"
      ]
     },
     "metadata": {},
     "output_type": "display_data"
    },
    {
     "data": {
      "text/plain": [
       "Amt_Requested              float64\n",
       "Amt_Funded_By_Investors    float64\n",
       "Interest_Rate              float64\n",
       "Loan_Length_Month          float64\n",
       "Loan_Purpose                object\n",
       "Debt_To_Inc_Ratio          float64\n",
       "State                       object\n",
       "Home_Ownership              object\n",
       "Monthly_Inc                float64\n",
       "FICO_Range                  object\n",
       "Open_CREDIT_Lines          float64\n",
       "Revolving_CREDIT_Bal       float64\n",
       "Inquiries_Last_6months     float64\n",
       "Employment_Length           object\n",
       "dtype: object"
      ]
     },
     "execution_count": 83,
     "metadata": {},
     "output_type": "execute_result"
    }
   ],
   "source": [
    "# Fetching the first few records\n",
    "display(LoansData.head())\n",
    "# Checking the different Home ownership values\n",
    "display(LoansData.Home_Ownership.unique())\n",
    "# Checking the datatypes for FICO scores and Home_Ownership\n",
    "LoansData.dtypes"
   ]
  },
  {
   "cell_type": "code",
   "execution_count": 86,
   "id": "e109a807",
   "metadata": {},
   "outputs": [
    {
     "data": {
      "text/plain": [
       "Amt_Requested               float64\n",
       "Amt_Funded_By_Investors     float64\n",
       "Interest_Rate               float64\n",
       "Loan_Length_Month           float64\n",
       "Loan_Purpose                 object\n",
       "Debt_To_Inc_Ratio           float64\n",
       "State                        object\n",
       "Home_Ownership               string\n",
       "Monthly_Inc                 float64\n",
       "FICO_Range                 category\n",
       "Open_CREDIT_Lines           float64\n",
       "Revolving_CREDIT_Bal        float64\n",
       "Inquiries_Last_6months      float64\n",
       "Employment_Length            object\n",
       "dtype: object"
      ]
     },
     "execution_count": 86,
     "metadata": {},
     "output_type": "execute_result"
    }
   ],
   "source": [
    "# Changing the datatype of FICO_Range and Home_Ownership\n",
    "\n",
    "LoansData['FICO_Range'] = LoansData['FICO_Range'].astype('category')\n",
    "LoansData['Home_Ownership'] = LoansData['Home_Ownership'].astype('string')\n",
    "LoansData.dtypes"
   ]
  },
  {
   "cell_type": "code",
   "execution_count": 90,
   "id": "398d9c9d",
   "metadata": {},
   "outputs": [
    {
     "data": {
      "text/plain": [
       "(269.7881202757335,\n",
       " 3.087547281383599e-15,\n",
       " 111,\n",
       " array([[2.29796933e+00, 1.03605470e-02, 3.91628678e-01, 2.30004144e+00],\n",
       "        [1.37878160e+00, 6.21632822e-03, 2.34977207e-01, 1.38002487e+00],\n",
       "        [4.59593867e-01, 2.07210941e-03, 7.83257356e-02, 4.60008288e-01],\n",
       "        [1.83837547e+00, 8.28843763e-03, 3.13302942e-01, 1.84003315e+00],\n",
       "        [5.42320763e+01, 2.44508910e-01, 9.24243680e+00, 5.42809780e+01],\n",
       "        [6.34239536e+01, 2.85951098e-01, 1.08089515e+01, 6.34811438e+01],\n",
       "        [7.67521757e+01, 3.46042271e-01, 1.30803978e+01, 7.68213842e+01],\n",
       "        [7.39946125e+01, 3.33609615e-01, 1.26104434e+01, 7.40613344e+01],\n",
       "        [7.21562370e+01, 3.25321177e-01, 1.22971405e+01, 7.22213013e+01],\n",
       "        [5.88280149e+01, 2.65230004e-01, 1.00256942e+01, 5.88810609e+01],\n",
       "        [6.20451720e+01, 2.79734770e-01, 1.05739743e+01, 6.21011189e+01],\n",
       "        [6.71007045e+01, 3.02527973e-01, 1.14355574e+01, 6.71612101e+01],\n",
       "        [5.69896395e+01, 2.56941567e-01, 9.71239121e+00, 5.70410278e+01],\n",
       "        [6.02067965e+01, 2.71446332e-01, 1.02606714e+01, 6.02610858e+01],\n",
       "        [4.91765437e+01, 2.21715707e-01, 8.38085371e+00, 4.92208869e+01],\n",
       "        [4.22826357e+01, 1.90634065e-01, 7.20596768e+00, 4.23207625e+01],\n",
       "        [4.96361376e+01, 2.23787816e-01, 8.45917944e+00, 4.96808952e+01],\n",
       "        [4.18230419e+01, 1.88561956e-01, 7.12764194e+00, 4.18607542e+01],\n",
       "        [4.32018235e+01, 1.94778284e-01, 7.36261915e+00, 4.32407791e+01],\n",
       "        [2.98736013e+01, 1.34687111e-01, 5.09117281e+00, 2.99005387e+01],\n",
       "        [2.29796933e+01, 1.03605470e-01, 3.91628678e+00, 2.30004144e+01],\n",
       "        [2.48180688e+01, 1.11893908e-01, 4.22958972e+00, 2.48404476e+01],\n",
       "        [2.75756320e+01, 1.24326564e-01, 4.69954414e+00, 2.76004973e+01],\n",
       "        [2.02221301e+01, 9.11728139e-02, 3.44633237e+00, 2.02403647e+01],\n",
       "        [2.06817240e+01, 9.32449233e-02, 3.52465810e+00, 2.07003730e+01],\n",
       "        [1.47070037e+01, 6.63075010e-02, 2.50642354e+00, 1.47202652e+01],\n",
       "        [7.81309573e+00, 3.52258599e-02, 1.33153751e+00, 7.82014090e+00],\n",
       "        [1.01110651e+01, 4.55864070e-02, 1.72316618e+00, 1.01201823e+01],\n",
       "        [1.19494405e+01, 5.38748446e-02, 2.03646913e+00, 1.19602155e+01],\n",
       "        [7.81309573e+00, 3.52258599e-02, 1.33153751e+00, 7.82014090e+00],\n",
       "        [9.19187733e+00, 4.14421881e-02, 1.56651471e+00, 9.20016577e+00],\n",
       "        [5.97472027e+00, 2.69374223e-02, 1.01823456e+00, 5.98010775e+00],\n",
       "        [5.51512640e+00, 2.48653129e-02, 9.39908827e-01, 5.52009946e+00],\n",
       "        [5.05553253e+00, 2.27932035e-02, 8.61583092e-01, 5.06009117e+00],\n",
       "        [3.67675093e+00, 1.65768753e-02, 6.26605885e-01, 3.68006631e+00],\n",
       "        [2.29796933e+00, 1.03605470e-02, 3.91628678e-01, 2.30004144e+00],\n",
       "        [4.59593867e-01, 2.07210941e-03, 7.83257356e-02, 4.60008288e-01],\n",
       "        [4.59593867e-01, 2.07210941e-03, 7.83257356e-02, 4.60008288e-01]]))"
      ]
     },
     "metadata": {},
     "output_type": "display_data"
    },
    {
     "name": "stdout",
     "output_type": "stream",
     "text": [
      "The pvalue generated is 3.0875e-15, which is much lesser than the assumed pvalue 0.05. Hence, the Null hypothesis is REJECTED. And so we can conclude that There is a relationship between FICO scores and Home Ownership\n"
     ]
    }
   ],
   "source": [
    "### FICO_Range : 1 categorical variable\n",
    "### Home_Ownership : 1 categorical variable\n",
    "\n",
    "# To determine the relationship between 2 categorical variables ,we can use the Chi Square test\n",
    "\n",
    "# HYPOTHESIS\n",
    "\n",
    "\n",
    "# 1) H0 = There is no relationship between FICO scores and Home Ownership, i.e FICO_Range and Home_Ownership are independent\n",
    "# 2) Ha = There is relationship between FICO scores and Home Ownership, i.e FICO_Range and Home_Ownership are dependent\n",
    "# 3) CI = 95% ; pvalue = 0.05\n",
    "# 4) Perform Chi Square Test\n",
    "\n",
    "FICO_home_Ownership = pd.crosstab(LoansData['FICO_Range'], LoansData['Home_Ownership'])\n",
    "\n",
    "display(stats.chi2_contingency(FICO_home_Ownership))\n",
    "print(\"The pvalue generated is 3.0875e-15, which is much lesser than the assumed pvalue 0.05. Hence, the Null hypothesis is REJECTED. And so we can conclude that There is a relationship between FICO scores and Home Ownership\")\n"
   ]
  },
  {
   "cell_type": "markdown",
   "id": "ae384a07",
   "metadata": {},
   "source": [
    "## BUSINESS PROBLEM - 2 - Price Quotes By Pricing Experts"
   ]
  },
  {
   "cell_type": "markdown",
   "id": "a61bc8b2",
   "metadata": {},
   "source": [
    "###  Assess if there is any difference in the average price quotes provided by Mary and Barry"
   ]
  },
  {
   "cell_type": "code",
   "execution_count": 99,
   "id": "75525d6f",
   "metadata": {},
   "outputs": [
    {
     "data": {
      "text/html": [
       "<div>\n",
       "<style scoped>\n",
       "    .dataframe tbody tr th:only-of-type {\n",
       "        vertical-align: middle;\n",
       "    }\n",
       "\n",
       "    .dataframe tbody tr th {\n",
       "        vertical-align: top;\n",
       "    }\n",
       "\n",
       "    .dataframe thead th {\n",
       "        text-align: right;\n",
       "    }\n",
       "</style>\n",
       "<table border=\"1\" class=\"dataframe\">\n",
       "  <thead>\n",
       "    <tr style=\"text-align: right;\">\n",
       "      <th></th>\n",
       "      <th>Order_Number</th>\n",
       "      <th>Barry_Price</th>\n",
       "      <th>Mary_Price</th>\n",
       "    </tr>\n",
       "  </thead>\n",
       "  <tbody>\n",
       "    <tr>\n",
       "      <th>0</th>\n",
       "      <td>1</td>\n",
       "      <td>126</td>\n",
       "      <td>114</td>\n",
       "    </tr>\n",
       "    <tr>\n",
       "      <th>1</th>\n",
       "      <td>2</td>\n",
       "      <td>110</td>\n",
       "      <td>118</td>\n",
       "    </tr>\n",
       "    <tr>\n",
       "      <th>2</th>\n",
       "      <td>3</td>\n",
       "      <td>138</td>\n",
       "      <td>114</td>\n",
       "    </tr>\n",
       "    <tr>\n",
       "      <th>3</th>\n",
       "      <td>4</td>\n",
       "      <td>142</td>\n",
       "      <td>111</td>\n",
       "    </tr>\n",
       "    <tr>\n",
       "      <th>4</th>\n",
       "      <td>5</td>\n",
       "      <td>146</td>\n",
       "      <td>129</td>\n",
       "    </tr>\n",
       "  </tbody>\n",
       "</table>\n",
       "</div>"
      ],
      "text/plain": [
       "   Order_Number  Barry_Price  Mary_Price\n",
       "0             1          126         114\n",
       "1             2          110         118\n",
       "2             3          138         114\n",
       "3             4          142         111\n",
       "4             5          146         129"
      ]
     },
     "metadata": {},
     "output_type": "display_data"
    },
    {
     "name": "stdout",
     "output_type": "stream",
     "text": [
      "Performing the T - Test\n"
     ]
    },
    {
     "data": {
      "text/plain": [
       "Ttest_relResult(statistic=2.521376510892349, pvalue=0.02840588045242053)"
      ]
     },
     "metadata": {},
     "output_type": "display_data"
    },
    {
     "name": "stdout",
     "output_type": "stream",
     "text": [
      " The generated pvalue is 0.0284 , which is lesser than the assumed pvalue 0.05. Hence we REJECT the Null Hypothesisand we can conclude that there is difference in the average price quotes provided by Mary and Barry\n"
     ]
    }
   ],
   "source": [
    "# Importing the dataset\n",
    "\n",
    "PriceQuotesData = pd.read_csv(\"C:\\\\Users\\\\ayirp\\\\Desktop\\\\DataAnalysis\\\\Python\\\\AnalytixLabs\\\\PythonCaseStudy\\\\Basic Statistics - Hypothesis Testing\\\\Price_Quotes.csv\")\n",
    "display(PriceQuotesData.head())\n",
    "\n",
    "Barry_Price_Avg = PriceQuotesData.Barry_Price.mean()\n",
    "Mary_Price_Avg = PriceQuotesData.Mary_Price.mean()\n",
    "\n",
    "### Barry_Price_Avg : 1 Continuous Variable\n",
    "### Mary_Price_Avg : 1 Continuous Variable\n",
    "\n",
    "# To determine the relationship between 2 Continuous variables and we have samples given and \n",
    "# not the entire population we can use the T -Test\n",
    "\n",
    "# HYPOTHESIS\n",
    "\n",
    "\n",
    "# 1) H0 = There is no difference in the average price quotes provided by Mary and Barry\n",
    "# 2) Ha = There is difference in the average price quotes provided by Mary and Barry\n",
    "# 3) CI = 95% ; pvalue = 0.05\n",
    "# 4) Perform T- Test\n",
    "\n",
    "print(\"Performing the T - Test\")\n",
    "display(stats.ttest_rel(PriceQuotesData.Barry_Price, PriceQuotesData.Mary_Price))\n",
    "\n",
    "print(\" The generated pvalue is 0.0284 , which is lesser than the assumed pvalue 0.05. Hence we REJECT the Null Hypothesisand we can conclude that there is difference in the average price quotes provided by Mary and Barry\")\n"
   ]
  },
  {
   "cell_type": "markdown",
   "id": "d751e124",
   "metadata": {},
   "source": [
    "## BUSINESS PROBLEM - 3:"
   ]
  },
  {
   "cell_type": "markdown",
   "id": "39ab5312",
   "metadata": {},
   "source": [
    "### Q) To determine if the reengineering effort improved the  critical incidence rate."
   ]
  },
  {
   "cell_type": "code",
   "execution_count": 102,
   "id": "570ce687",
   "metadata": {},
   "outputs": [],
   "source": [
    "TreatmentFacilityData = pd.read_csv(\"C:\\\\Users\\\\ayirp\\\\Desktop\\\\DataAnalysis\\\\Python\\\\AnalytixLabs\\\\PythonCaseStudy\\\\Basic Statistics - Hypothesis Testing\\\\Treatment_Facility.csv\")"
   ]
  },
  {
   "cell_type": "code",
   "execution_count": 114,
   "id": "d83f9cfd",
   "metadata": {},
   "outputs": [
    {
     "data": {
      "text/plain": [
       "array(['Prior', 'Post'], dtype=object)"
      ]
     },
     "metadata": {},
     "output_type": "display_data"
    },
    {
     "name": "stdout",
     "output_type": "stream",
     "text": [
      "Performing the T - Test\n"
     ]
    },
    {
     "data": {
      "text/plain": [
       "Ttest_indResult(statistic=1.6279144253528646, pvalue=0.12091989189884149)"
      ]
     },
     "metadata": {},
     "output_type": "display_data"
    },
    {
     "name": "stdout",
     "output_type": "stream",
     "text": [
      "The pvalue generated is pvalue=0.120 , which is greater than the assumed pvalue 0.05; hence we ACCEPT the Null Hypothesis\n"
     ]
    }
   ],
   "source": [
    "\n",
    "display(TreatmentFacilityData.Reengineer.unique())\n",
    "TreatmentFacilityData.rename( {'VAR4': 'TRFF(%)', 'VAR5' : 'CI (%)'}, axis= 1 , inplace= True)\n",
    "\n",
    "TreatmentFacilityData.head()\n",
    "\n",
    "### Samples for each Reengineer\n",
    "SamplePrior = TreatmentFacilityData.loc[TreatmentFacilityData.Reengineer == 'Prior', 'CI (%)']\n",
    "SamplePost = TreatmentFacilityData.loc[TreatmentFacilityData.Reengineer == 'Post', 'CI (%)']\n",
    "\n",
    "### HYPOTHESIS TESTING\n",
    "\n",
    "\n",
    "# 1) H0 = There is no difference in the critical incidence rate based on the reengineer\n",
    "# 2) Ha = There is improvement in the critical incidence rate based on the reengineer\n",
    "# 3) CI = 95% ; pvalue = 0.05\n",
    "# 4) Perform T- Test\n",
    "\n",
    "print(\"Performing the T - Test\")\n",
    "display(stats.ttest_ind(SamplePrior, SamplePost))\n",
    "\n",
    "print(\"The pvalue generated is pvalue=0.120 , which is greater than the assumed pvalue 0.05; hence we ACCEPT the Null Hypothesis\")"
   ]
  },
  {
   "cell_type": "markdown",
   "id": "729dc0b3",
   "metadata": {},
   "source": [
    "## BUSINESS PROBLEM - 4\n"
   ]
  },
  {
   "cell_type": "markdown",
   "id": "85395bb9",
   "metadata": {},
   "source": [
    "### BUSINESS PROBLEM: We will focus on the prioritization system. If the system is working, then high priority jobs, on average, should be completed more quickly than medium priority jobs, and medium priority jobs should be completed more quickly than low priority jobs. Use the data provided to determine whether this is, in fact, occurring."
   ]
  },
  {
   "cell_type": "code",
   "execution_count": 6,
   "id": "3e06cdde",
   "metadata": {},
   "outputs": [
    {
     "data": {
      "text/plain": [
       "SpearmanrResult(correlation=0.01791379155123633, pvalue=0.6505153120156153)"
      ]
     },
     "metadata": {},
     "output_type": "display_data"
    },
    {
     "name": "stdout",
     "output_type": "stream",
     "text": [
      "The generated pvalue is value=0.6505 , which is more than the assumed pvalue ,i.e 0.05. Hen we FAIL TO REJECT the null hypothesis.\n"
     ]
    }
   ],
   "source": [
    "PriorityAssessmentData = pd.read_csv(\"C:\\\\Users\\\\ayirp\\\\Desktop\\\\DataAnalysis\\\\Python\\\\AnalytixLabs\\\\PythonCaseStudy\\\\Basic Statistics - Hypothesis Testing\\\\Priority_Assessment.csv\")\n",
    "\n",
    "PriorityAssessmentData.head()\n",
    "\n",
    "# HYPOTHESIS\n",
    "\n",
    "\n",
    "# 1) H0 = Jobs are not getting done based on the priority system\n",
    "# 2) Ha = Jobs are getting done based on the priority system\n",
    "# 3) CI = 95% ; pvalue = 0.05\n",
    "# 4) Perform Spearman’s Correlation Coefficient\n",
    "\n",
    "display(stats.spearmanr(PriorityAssessmentData.Priority, PriorityAssessmentData.Days))\n",
    "\n",
    "print(\"The generated pvalue is value=0.6505 , which is more than the assumed pvalue ,i.e 0.05. Hen we FAIL TO REJECT the null hypothesis.\")\n"
   ]
  },
  {
   "cell_type": "markdown",
   "id": "0d1b3e36",
   "metadata": {},
   "source": [
    "## BUSINESS PROBLEM - 5 - Films"
   ]
  },
  {
   "cell_type": "code",
   "execution_count": 3,
   "id": "6f401335",
   "metadata": {},
   "outputs": [
    {
     "data": {
      "text/html": [
       "<div>\n",
       "<style scoped>\n",
       "    .dataframe tbody tr th:only-of-type {\n",
       "        vertical-align: middle;\n",
       "    }\n",
       "\n",
       "    .dataframe tbody tr th {\n",
       "        vertical-align: top;\n",
       "    }\n",
       "\n",
       "    .dataframe thead th {\n",
       "        text-align: right;\n",
       "    }\n",
       "</style>\n",
       "<table border=\"1\" class=\"dataframe\">\n",
       "  <thead>\n",
       "    <tr style=\"text-align: right;\">\n",
       "      <th></th>\n",
       "      <th>Movie</th>\n",
       "      <th>Gender</th>\n",
       "      <th>Marital_Status</th>\n",
       "      <th>Sinage</th>\n",
       "      <th>Parking</th>\n",
       "      <th>Clean</th>\n",
       "      <th>Overall</th>\n",
       "      <th>Age</th>\n",
       "      <th>Income</th>\n",
       "      <th>Hear_About</th>\n",
       "    </tr>\n",
       "  </thead>\n",
       "  <tbody>\n",
       "    <tr>\n",
       "      <th>0</th>\n",
       "      <td>Ferris Buellers Day Off</td>\n",
       "      <td>Female</td>\n",
       "      <td>Married</td>\n",
       "      <td>2.0</td>\n",
       "      <td>2.0</td>\n",
       "      <td>2.0</td>\n",
       "      <td>2.0</td>\n",
       "      <td>3.0</td>\n",
       "      <td>1.0</td>\n",
       "      <td>5</td>\n",
       "    </tr>\n",
       "    <tr>\n",
       "      <th>1</th>\n",
       "      <td>Ferris Buellers Day Off</td>\n",
       "      <td>Female</td>\n",
       "      <td>Single</td>\n",
       "      <td>1.0</td>\n",
       "      <td>1.0</td>\n",
       "      <td>1.0</td>\n",
       "      <td>1.0</td>\n",
       "      <td>2.0</td>\n",
       "      <td>1.0</td>\n",
       "      <td>5</td>\n",
       "    </tr>\n",
       "    <tr>\n",
       "      <th>2</th>\n",
       "      <td>Ferris Buellers Day Off</td>\n",
       "      <td>Male</td>\n",
       "      <td>Married</td>\n",
       "      <td>2.0</td>\n",
       "      <td>4.0</td>\n",
       "      <td>3.0</td>\n",
       "      <td>2.0</td>\n",
       "      <td>4.0</td>\n",
       "      <td>1.0</td>\n",
       "      <td>5</td>\n",
       "    </tr>\n",
       "    <tr>\n",
       "      <th>3</th>\n",
       "      <td>Ferris Buellers Day Off</td>\n",
       "      <td>Female</td>\n",
       "      <td>Married</td>\n",
       "      <td>1.0</td>\n",
       "      <td>3.0</td>\n",
       "      <td>2.0</td>\n",
       "      <td>2.0</td>\n",
       "      <td>4.0</td>\n",
       "      <td>1.0</td>\n",
       "      <td>5</td>\n",
       "    </tr>\n",
       "    <tr>\n",
       "      <th>4</th>\n",
       "      <td>Ferris Buellers Day Off</td>\n",
       "      <td>Female</td>\n",
       "      <td>Married</td>\n",
       "      <td>1.0</td>\n",
       "      <td>1.0</td>\n",
       "      <td>1.0</td>\n",
       "      <td>1.0</td>\n",
       "      <td>3.0</td>\n",
       "      <td>3.0</td>\n",
       "      <td>1</td>\n",
       "    </tr>\n",
       "  </tbody>\n",
       "</table>\n",
       "</div>"
      ],
      "text/plain": [
       "                     Movie  Gender Marital_Status  Sinage  Parking  Clean  \\\n",
       "0  Ferris Buellers Day Off  Female        Married     2.0      2.0    2.0   \n",
       "1  Ferris Buellers Day Off  Female         Single     1.0      1.0    1.0   \n",
       "2  Ferris Buellers Day Off    Male        Married     2.0      4.0    3.0   \n",
       "3  Ferris Buellers Day Off  Female        Married     1.0      3.0    2.0   \n",
       "4  Ferris Buellers Day Off  Female        Married     1.0      1.0    1.0   \n",
       "\n",
       "   Overall  Age  Income Hear_About  \n",
       "0      2.0  3.0     1.0          5  \n",
       "1      1.0  2.0     1.0          5  \n",
       "2      2.0  4.0     1.0          5  \n",
       "3      2.0  4.0     1.0          5  \n",
       "4      1.0  3.0     3.0          1  "
      ]
     },
     "execution_count": 3,
     "metadata": {},
     "output_type": "execute_result"
    }
   ],
   "source": [
    "FilmsData = pd.read_csv(\"C:\\\\Users\\\\ayirp\\\\Desktop\\\\DataAnalysis\\\\Python\\\\AnalytixLabs\\\\PythonCaseStudy\\\\Basic Statistics - Hypothesis Testing\\\\Films.csv\")\n",
    "\n",
    "# Removing the column _rowstate_\n",
    "FilmsData.pop('_rowstate_')\n",
    "FilmsData.head()"
   ]
  },
  {
   "cell_type": "markdown",
   "id": "4ef63a4b",
   "metadata": {},
   "source": [
    "### Q1) What is the overall level of customer satisfaction?"
   ]
  },
  {
   "cell_type": "code",
   "execution_count": 4,
   "id": "9213e681",
   "metadata": {},
   "outputs": [
    {
     "data": {
      "text/html": [
       "<div>\n",
       "<style scoped>\n",
       "    .dataframe tbody tr th:only-of-type {\n",
       "        vertical-align: middle;\n",
       "    }\n",
       "\n",
       "    .dataframe tbody tr th {\n",
       "        vertical-align: top;\n",
       "    }\n",
       "\n",
       "    .dataframe thead th {\n",
       "        text-align: right;\n",
       "    }\n",
       "</style>\n",
       "<table border=\"1\" class=\"dataframe\">\n",
       "  <thead>\n",
       "    <tr style=\"text-align: right;\">\n",
       "      <th></th>\n",
       "      <th>Count</th>\n",
       "      <th>Prob</th>\n",
       "    </tr>\n",
       "    <tr>\n",
       "      <th>Overall</th>\n",
       "      <th></th>\n",
       "      <th></th>\n",
       "    </tr>\n",
       "  </thead>\n",
       "  <tbody>\n",
       "    <tr>\n",
       "      <th>1.0</th>\n",
       "      <td>151</td>\n",
       "      <td>0.460366</td>\n",
       "    </tr>\n",
       "    <tr>\n",
       "      <th>2.0</th>\n",
       "      <td>160</td>\n",
       "      <td>0.487805</td>\n",
       "    </tr>\n",
       "    <tr>\n",
       "      <th>3.0</th>\n",
       "      <td>12</td>\n",
       "      <td>0.036585</td>\n",
       "    </tr>\n",
       "    <tr>\n",
       "      <th>4.0</th>\n",
       "      <td>1</td>\n",
       "      <td>0.003049</td>\n",
       "    </tr>\n",
       "    <tr>\n",
       "      <th>5.0</th>\n",
       "      <td>4</td>\n",
       "      <td>0.012195</td>\n",
       "    </tr>\n",
       "  </tbody>\n",
       "</table>\n",
       "</div>"
      ],
      "text/plain": [
       "         Count      Prob\n",
       "Overall                 \n",
       "1.0        151  0.460366\n",
       "2.0        160  0.487805\n",
       "3.0         12  0.036585\n",
       "4.0          1  0.003049\n",
       "5.0          4  0.012195"
      ]
     },
     "metadata": {},
     "output_type": "display_data"
    },
    {
     "name": "stdout",
     "output_type": "stream",
     "text": [
      "The mentioned code for the scales are 1 = Excellent; 2 = Good; 3 = Average/Fair; 4 = Poor; 5 = Very Poor. And the received scales are mostle 1 and 2, which combined give us (46% + 48 %) 94% level of satisfaction\n"
     ]
    }
   ],
   "source": [
    "overall_satisfaction = FilmsData.groupby('Overall')[['Overall']].count()\n",
    "overall_satisfaction = overall_satisfaction.rename(columns = {'Overall' : 'Count'})\n",
    "overall_satisfaction['Prob'] = overall_satisfaction['Count'] / overall_satisfaction['Count'].sum()\n",
    "\n",
    "display(overall_satisfaction)\n",
    "print('The mentioned code for the scales are 1 = Excellent; 2 = Good; 3 = Average/Fair; 4 = Poor; 5 = Very Poor. And the received scales are mostle 1 and 2, which combined give us (46% + 48 %) 94% level of satisfaction')\n"
   ]
  },
  {
   "cell_type": "markdown",
   "id": "b62c7594",
   "metadata": {},
   "source": [
    "### Q2) What factors are linked to satisfaction?"
   ]
  },
  {
   "cell_type": "code",
   "execution_count": 13,
   "id": "cc506ae1",
   "metadata": {},
   "outputs": [
    {
     "data": {
      "text/plain": [
       "(124.81695331531306,\n",
       " 6.47639805161236e-19,\n",
       " 16,\n",
       " array([[5.18348624e+01, 5.52905199e+01, 4.14678899e+00, 3.45565749e-01,\n",
       "         1.38226300e+00],\n",
       "        [7.11009174e+01, 7.58409786e+01, 5.68807339e+00, 4.74006116e-01,\n",
       "         1.89602446e+00],\n",
       "        [2.20183486e+01, 2.34862385e+01, 1.76146789e+00, 1.46788991e-01,\n",
       "         5.87155963e-01],\n",
       "        [2.75229358e+00, 2.93577982e+00, 2.20183486e-01, 1.83486239e-02,\n",
       "         7.33944954e-02],\n",
       "        [2.29357798e+00, 2.44648318e+00, 1.83486239e-01, 1.52905199e-02,\n",
       "         6.11620795e-02]]))"
      ]
     },
     "metadata": {},
     "output_type": "display_data"
    },
    {
     "name": "stdout",
     "output_type": "stream",
     "text": [
      "The pvalue generated is 6.476e-19 , which is lesser than the assumed pvalue of 0.05. Hence, we REJECT the Null hypothesis. So the Sinage and Overall satisfaction are dependent\n",
      "************************************************************************************************\n"
     ]
    },
    {
     "data": {
      "text/plain": [
       "(229.4794365763204,\n",
       " 8.162450437898108e-40,\n",
       " 16,\n",
       " array([[6.18776758e+01, 6.51559633e+01, 4.91743119e+00, 4.09785933e-01,\n",
       "         1.63914373e+00],\n",
       "        [7.06513761e+01, 7.43944954e+01, 5.61467890e+00, 4.67889908e-01,\n",
       "         1.87155963e+00],\n",
       "        [1.33914373e+01, 1.41009174e+01, 1.06422018e+00, 8.86850153e-02,\n",
       "         3.54740061e-01],\n",
       "        [3.23241590e+00, 3.40366972e+00, 2.56880734e-01, 2.14067278e-02,\n",
       "         8.56269113e-02],\n",
       "        [1.84709480e+00, 1.94495413e+00, 1.46788991e-01, 1.22324159e-02,\n",
       "         4.89296636e-02]]))"
      ]
     },
     "metadata": {},
     "output_type": "display_data"
    },
    {
     "name": "stdout",
     "output_type": "stream",
     "text": [
      "The pvalue generated is 8.162e- ,40 which is lesser than the assumed pvalue of 0.05. Hence, we REJECT the Null hypothesis. So the Parking and Overall satisfaction are dependent\n",
      "************************************************************************************************\n"
     ]
    },
    {
     "data": {
      "text/plain": [
       "(125.17708834561675,\n",
       " 5.517448379868074e-19,\n",
       " 16,\n",
       " array([[6.64954128e+01, 7.00183486e+01, 5.28440367e+00, 4.40366972e-01,\n",
       "         1.76146789e+00],\n",
       "        [7.01896024e+01, 7.39082569e+01, 5.57798165e+00, 4.64831804e-01,\n",
       "         1.85932722e+00],\n",
       "        [1.10825688e+01, 1.16697248e+01, 8.80733945e-01, 7.33944954e-02,\n",
       "         2.93577982e-01],\n",
       "        [2.30886850e+00, 2.43119266e+00, 1.83486239e-01, 1.52905199e-02,\n",
       "         6.11620795e-02],\n",
       "        [9.23547401e-01, 9.72477064e-01, 7.33944954e-02, 6.11620795e-03,\n",
       "         2.44648318e-02]]))"
      ]
     },
     "metadata": {},
     "output_type": "display_data"
    },
    {
     "name": "stdout",
     "output_type": "stream",
     "text": [
      "The pvalue generated is 5.517e-19 which is lesser than the assumed pvalue of 0.05. Hence, we REJECT the Null hypothesis. So the Parking and Overall satisfaction are dependent\n",
      "************************************************************************************************\n",
      "\n",
      " So the sinage,parking and clean are the factors that influence the overall satisfaction\n",
      "\n"
     ]
    }
   ],
   "source": [
    "FilmsData.head()\n",
    "# Sinage,Parking and Cleanliness is linked to the Overall satisfaction.\n",
    "# scales coded as coded: 1 = Excellent; 2 = Good; 3 = Average/Fair; 4 = Poor; 5 = Very Poor\n",
    "\n",
    "# 1 -- Sinage - 1 categorical variable and Overall - 1 categorical variable\n",
    "# 2 --  Parking - 1 categorical variable and Overall - 1 categorical variable\n",
    "# 3 -- Clean - 1 categorical variable and Overall - 1 categorical variable\n",
    "\n",
    "# To determine the relationship between 2 categorical variables ,we can use the Chi Square test\n",
    "\n",
    "\n",
    "#===================================================================================\n",
    "# 1) -- Sinage - 1 categorical variable and Overall - 1 categorical variable \n",
    "# HYPOTHESIS\n",
    "\n",
    "\n",
    "# 1) H0 = There is no relationship between Sinage and Overall satisfaction, i.e they are independent\n",
    "# 2) Ha = There is relationship between Sinage and Overall satisfaction, i.e they are dependent\n",
    "# 3) CI = 95% ; pvalue = 0.05\n",
    "# 4) Perform Chi Square Test\n",
    "\n",
    "Sinage_Overall = pd.crosstab(FilmsData['Sinage'], FilmsData['Overall'])\n",
    "\n",
    "display(stats.chi2_contingency(Sinage_Overall))\n",
    "print('The pvalue generated is 6.476e-19 , which is lesser than the assumed pvalue of 0.05. Hence, we REJECT the Null hypothesis. So the Sinage and Overall satisfaction are dependent' )\n",
    "print(\"************************************************************************************************\")\n",
    "#======================================================================================\n",
    "# 2 --  Parking - 1 categorical variable and Overall - 1 categorical variable\n",
    "# HYPOTHESIS\n",
    "\n",
    "\n",
    "# 1) H0 = There is no relationship between Parking and Overall satisfaction, i.e they are independent\n",
    "# 2) Ha = There is relationship between Parking and Overall satisfaction, i.e they are dependent\n",
    "# 3) CI = 95% ; pvalue = 0.05\n",
    "# 4) Perform Chi Square Test\n",
    "\n",
    "Parking_Overall = pd.crosstab(FilmsData['Parking'], FilmsData['Overall'])\n",
    "\n",
    "display(stats.chi2_contingency(Parking_Overall))\n",
    "print('The pvalue generated is 8.162e- ,40 which is lesser than the assumed pvalue of 0.05. Hence, we REJECT the Null hypothesis. So the Parking and Overall satisfaction are dependent' )\n",
    "print(\"************************************************************************************************\")\n",
    "#======================================================================================\n",
    "# 3 -- Clean - 1 categorical variable and Overall - 1 categorical variable\n",
    "# HYPOTHESIS\n",
    "\n",
    "\n",
    "# 1) H0 = There is no relationship between Clean and Overall satisfaction, i.e they are independent\n",
    "# 2) Ha = There is relationship between Clean and Overall satisfaction, i.e they are dependent\n",
    "# 3) CI = 95% ; pvalue = 0.05\n",
    "# 4) Perform Chi Square Test\n",
    "\n",
    "Clean_Overall = pd.crosstab(FilmsData['Clean'], FilmsData['Overall'])\n",
    "\n",
    "display(stats.chi2_contingency(Clean_Overall))\n",
    "print('The pvalue generated is 5.517e-19 which is lesser than the assumed pvalue of 0.05. Hence, we REJECT the Null hypothesis. So the Parking and Overall satisfaction are dependent' )\n",
    "print(\"************************************************************************************************\")\n",
    "#======================================================================================\n",
    "\n",
    "print(\"\\n So the sinage,parking and clean are the factors that influence the overall satisfaction\\n\")"
   ]
  },
  {
   "cell_type": "markdown",
   "id": "5d9e7991",
   "metadata": {},
   "source": [
    "### Q3) What is the demographic profile of Film on the Rocks patrons?"
   ]
  },
  {
   "cell_type": "code",
   "execution_count": 26,
   "id": "3da4b379",
   "metadata": {},
   "outputs": [
    {
     "data": {
      "text/html": [
       "<div>\n",
       "<style scoped>\n",
       "    .dataframe tbody tr th:only-of-type {\n",
       "        vertical-align: middle;\n",
       "    }\n",
       "\n",
       "    .dataframe tbody tr th {\n",
       "        vertical-align: top;\n",
       "    }\n",
       "\n",
       "    .dataframe thead th {\n",
       "        text-align: right;\n",
       "    }\n",
       "</style>\n",
       "<table border=\"1\" class=\"dataframe\">\n",
       "  <thead>\n",
       "    <tr style=\"text-align: right;\">\n",
       "      <th></th>\n",
       "      <th>Gender</th>\n",
       "      <th>count</th>\n",
       "      <th>Probability</th>\n",
       "    </tr>\n",
       "  </thead>\n",
       "  <tbody>\n",
       "    <tr>\n",
       "      <th>0</th>\n",
       "      <td>0</td>\n",
       "      <td>213</td>\n",
       "      <td>0.645455</td>\n",
       "    </tr>\n",
       "    <tr>\n",
       "      <th>1</th>\n",
       "      <td>1</td>\n",
       "      <td>117</td>\n",
       "      <td>0.354545</td>\n",
       "    </tr>\n",
       "  </tbody>\n",
       "</table>\n",
       "</div>"
      ],
      "text/plain": [
       "  Gender  count  Probability\n",
       "0      0    213     0.645455\n",
       "1      1    117     0.354545"
      ]
     },
     "metadata": {},
     "output_type": "display_data"
    },
    {
     "name": "stdout",
     "output_type": "stream",
     "text": [
      "We have female = 213 and males = 117, i.e 64% of the audiance are Females\n"
     ]
    }
   ],
   "source": [
    "### Demography on Gender\n",
    "# Since the gender values are mixed, lets make them uniform.\n",
    "\n",
    "def gender (x):\n",
    "    if x.Gender == 'Male' :\n",
    "        return '1'\n",
    "    elif x.Gender == 'Female'  :\n",
    "        return '0'\n",
    "    elif x.Gender == '1'  :\n",
    "        return '1'\n",
    "    else :\n",
    "        return '0'\n",
    "    \n",
    "#converting males to 1 and females to 0 \n",
    "FilmsData.Gender = FilmsData.apply(gender, axis=1)\n",
    "\n",
    "gender_demo = FilmsData.groupby(\"Gender\")[[\"Gender\"]].count()\n",
    "gender_demo = gender_demo.rename( columns={'Gender': 'count'}).reset_index()\n",
    "gender_demo[\"Probability\"] = gender_demo[\"count\"] / gender_demo[\"count\"].sum()\n",
    "\n",
    "display(gender_demo)\n",
    "print(\"We have female = 213 and males = 117, i.e 64% of the audiance are Females\")"
   ]
  },
  {
   "cell_type": "code",
   "execution_count": 35,
   "id": "2b63b7a1",
   "metadata": {},
   "outputs": [
    {
     "data": {
      "text/html": [
       "<div>\n",
       "<style scoped>\n",
       "    .dataframe tbody tr th:only-of-type {\n",
       "        vertical-align: middle;\n",
       "    }\n",
       "\n",
       "    .dataframe tbody tr th {\n",
       "        vertical-align: top;\n",
       "    }\n",
       "\n",
       "    .dataframe thead th {\n",
       "        text-align: right;\n",
       "    }\n",
       "</style>\n",
       "<table border=\"1\" class=\"dataframe\">\n",
       "  <thead>\n",
       "    <tr style=\"text-align: right;\">\n",
       "      <th></th>\n",
       "      <th>Marital_Status</th>\n",
       "      <th>count</th>\n",
       "      <th>Probability</th>\n",
       "    </tr>\n",
       "  </thead>\n",
       "  <tbody>\n",
       "    <tr>\n",
       "      <th>0</th>\n",
       "      <td>0</td>\n",
       "      <td>230</td>\n",
       "      <td>0.69697</td>\n",
       "    </tr>\n",
       "    <tr>\n",
       "      <th>1</th>\n",
       "      <td>1</td>\n",
       "      <td>100</td>\n",
       "      <td>0.30303</td>\n",
       "    </tr>\n",
       "  </tbody>\n",
       "</table>\n",
       "</div>"
      ],
      "text/plain": [
       "  Marital_Status  count  Probability\n",
       "0              0    230      0.69697\n",
       "1              1    100      0.30303"
      ]
     },
     "metadata": {},
     "output_type": "display_data"
    },
    {
     "name": "stdout",
     "output_type": "stream",
     "text": [
      "We have married = 100 and single = 230, i.e 69% of the audiance are single\n"
     ]
    }
   ],
   "source": [
    "### Demography on Marital status\n",
    "\n",
    "# Getting the count for the marital status\n",
    "FilmsData.groupby(\"Marital_Status\")[[\"Marital_Status\"]].count()\n",
    "\n",
    "# Since there are mixed values, we have to make them uniform\n",
    "\n",
    "# Since the gender values are mixed, lets make them uniform.\n",
    "\n",
    "def MaritalStatus (x):\n",
    "    if x.Marital_Status == 'Married' :\n",
    "        return '1'\n",
    "    elif x.Marital_Status == 'Single'  :\n",
    "        return '0'\n",
    "    elif x.Marital_Status == 'Slngle'  :\n",
    "        return '0'\n",
    "    elif x.Marital_Status == '1'  :\n",
    "        return '1'\n",
    "    else :\n",
    "        return '0'\n",
    "    \n",
    "#converting married to 1 and single to 0 \n",
    "FilmsData.Marital_Status = FilmsData.apply(MaritalStatus, axis=1)\n",
    "\n",
    "Marital_Status_demo = FilmsData.groupby(\"Marital_Status\")[[\"Marital_Status\"]].count()\n",
    "Marital_Status_demo = Marital_Status_demo.rename( columns={'Marital_Status': 'count'}).reset_index()\n",
    "Marital_Status_demo[\"Probability\"] = Marital_Status_demo[\"count\"] / Marital_Status_demo[\"count\"].sum()\n",
    "\n",
    "display(Marital_Status_demo)\n",
    "print(\"We have married = 100 and single = 230, i.e 69% of the audiance are single\")\n"
   ]
  },
  {
   "cell_type": "code",
   "execution_count": 42,
   "id": "34e454a0",
   "metadata": {},
   "outputs": [
    {
     "data": {
      "text/html": [
       "<div>\n",
       "<style scoped>\n",
       "    .dataframe tbody tr th:only-of-type {\n",
       "        vertical-align: middle;\n",
       "    }\n",
       "\n",
       "    .dataframe tbody tr th {\n",
       "        vertical-align: top;\n",
       "    }\n",
       "\n",
       "    .dataframe thead th {\n",
       "        text-align: right;\n",
       "    }\n",
       "</style>\n",
       "<table border=\"1\" class=\"dataframe\">\n",
       "  <thead>\n",
       "    <tr style=\"text-align: right;\">\n",
       "      <th></th>\n",
       "      <th>Age</th>\n",
       "      <th>count</th>\n",
       "      <th>Probability</th>\n",
       "    </tr>\n",
       "  </thead>\n",
       "  <tbody>\n",
       "    <tr>\n",
       "      <th>0</th>\n",
       "      <td>1.0</td>\n",
       "      <td>26</td>\n",
       "      <td>0.079268</td>\n",
       "    </tr>\n",
       "    <tr>\n",
       "      <th>1</th>\n",
       "      <td>2.0</td>\n",
       "      <td>175</td>\n",
       "      <td>0.533537</td>\n",
       "    </tr>\n",
       "    <tr>\n",
       "      <th>2</th>\n",
       "      <td>3.0</td>\n",
       "      <td>117</td>\n",
       "      <td>0.356707</td>\n",
       "    </tr>\n",
       "    <tr>\n",
       "      <th>3</th>\n",
       "      <td>4.0</td>\n",
       "      <td>10</td>\n",
       "      <td>0.030488</td>\n",
       "    </tr>\n",
       "  </tbody>\n",
       "</table>\n",
       "</div>"
      ],
      "text/plain": [
       "   Age  count  Probability\n",
       "0  1.0     26     0.079268\n",
       "1  2.0    175     0.533537\n",
       "2  3.0    117     0.356707\n",
       "3  4.0     10     0.030488"
      ]
     },
     "metadata": {},
     "output_type": "display_data"
    },
    {
     "name": "stdout",
     "output_type": "stream",
     "text": [
      "It is seen that 53% of the audiance are fromthe age group 13-30 and 35% are from the age group 31-60, which makes up the maority togrther\n"
     ]
    }
   ],
   "source": [
    "### Demography on Age\n",
    "\n",
    "FilmsData.groupby(\"Age\")[[\"Age\"]].count()\n",
    "### GIVEN patron’s age in years: \n",
    "# 1= 1-12; \n",
    "# 2 = 13-30; \n",
    "# 3 = 31-60; \n",
    "# 4 = 60+\n",
    "\n",
    "Age_demo = FilmsData.groupby(\"Age\")[[\"Age\"]].count()\n",
    "Age_demo = Age_demo.rename( columns={'Age': 'count'}).reset_index()\n",
    "Age_demo[\"Probability\"] = Age_demo[\"count\"] / Age_demo[\"count\"].sum()\n",
    "display(Age_demo)\n",
    "print(\"It is seen that 53% of the audiance are fromthe age group 13-30 and 35% are from the age group 31-60, which makes up the maority togrther\")"
   ]
  },
  {
   "cell_type": "code",
   "execution_count": 45,
   "id": "8cdbdd41",
   "metadata": {},
   "outputs": [
    {
     "data": {
      "text/html": [
       "<div>\n",
       "<style scoped>\n",
       "    .dataframe tbody tr th:only-of-type {\n",
       "        vertical-align: middle;\n",
       "    }\n",
       "\n",
       "    .dataframe tbody tr th {\n",
       "        vertical-align: top;\n",
       "    }\n",
       "\n",
       "    .dataframe thead th {\n",
       "        text-align: right;\n",
       "    }\n",
       "</style>\n",
       "<table border=\"1\" class=\"dataframe\">\n",
       "  <thead>\n",
       "    <tr style=\"text-align: right;\">\n",
       "      <th></th>\n",
       "      <th>Income</th>\n",
       "      <th>count</th>\n",
       "      <th>Probability</th>\n",
       "    </tr>\n",
       "  </thead>\n",
       "  <tbody>\n",
       "    <tr>\n",
       "      <th>0</th>\n",
       "      <td>1.0</td>\n",
       "      <td>142</td>\n",
       "      <td>0.452229</td>\n",
       "    </tr>\n",
       "    <tr>\n",
       "      <th>1</th>\n",
       "      <td>2.0</td>\n",
       "      <td>82</td>\n",
       "      <td>0.261146</td>\n",
       "    </tr>\n",
       "    <tr>\n",
       "      <th>2</th>\n",
       "      <td>3.0</td>\n",
       "      <td>90</td>\n",
       "      <td>0.286624</td>\n",
       "    </tr>\n",
       "  </tbody>\n",
       "</table>\n",
       "</div>"
      ],
      "text/plain": [
       "   Income  count  Probability\n",
       "0     1.0    142     0.452229\n",
       "1     2.0     82     0.261146\n",
       "2     3.0     90     0.286624"
      ]
     },
     "metadata": {},
     "output_type": "display_data"
    },
    {
     "name": "stdout",
     "output_type": "stream",
     "text": [
      "45% of the audiance are from in income group Less than $50,000, which is the majority\n"
     ]
    }
   ],
   "source": [
    "### Demography on Income\n",
    "\n",
    "FilmsData.groupby(\"Income\")[[\"Income\"]].count()\n",
    "### GIVEN  patron’s annual household income: \n",
    "# 1 = Less than $50,000;\n",
    "# 2 = $50 - $100,000; \n",
    "# 3 = $100,000+ \n",
    "\n",
    "\n",
    "Income_demo = FilmsData.groupby(\"Income\")[[\"Income\"]].count()\n",
    "Income_demo = Income_demo.rename( columns={'Income': 'count'}).reset_index()\n",
    "Income_demo[\"Probability\"] = Income_demo[\"count\"] / Income_demo[\"count\"].sum()\n",
    "display(Income_demo)\n",
    "print(\"45% of the audiance are from in income group Less than $50,000, which is the majority\")"
   ]
  },
  {
   "cell_type": "markdown",
   "id": "2c16122b",
   "metadata": {},
   "source": [
    "### Q4) In what media outlet(s) should the film series be advertised?"
   ]
  },
  {
   "cell_type": "code",
   "execution_count": 51,
   "id": "b8bb1f0b",
   "metadata": {},
   "outputs": [
    {
     "data": {
      "text/html": [
       "<div>\n",
       "<style scoped>\n",
       "    .dataframe tbody tr th:only-of-type {\n",
       "        vertical-align: middle;\n",
       "    }\n",
       "\n",
       "    .dataframe tbody tr th {\n",
       "        vertical-align: top;\n",
       "    }\n",
       "\n",
       "    .dataframe thead th {\n",
       "        text-align: right;\n",
       "    }\n",
       "</style>\n",
       "<table border=\"1\" class=\"dataframe\">\n",
       "  <thead>\n",
       "    <tr style=\"text-align: right;\">\n",
       "      <th></th>\n",
       "      <th>Hear_About</th>\n",
       "      <th>count</th>\n",
       "      <th>Probability</th>\n",
       "    </tr>\n",
       "  </thead>\n",
       "  <tbody>\n",
       "    <tr>\n",
       "      <th>0</th>\n",
       "      <td>1</td>\n",
       "      <td>22</td>\n",
       "      <td>0.068111</td>\n",
       "    </tr>\n",
       "    <tr>\n",
       "      <th>1</th>\n",
       "      <td>1,5</td>\n",
       "      <td>1</td>\n",
       "      <td>0.003096</td>\n",
       "    </tr>\n",
       "    <tr>\n",
       "      <th>2</th>\n",
       "      <td>2</td>\n",
       "      <td>12</td>\n",
       "      <td>0.037152</td>\n",
       "    </tr>\n",
       "    <tr>\n",
       "      <th>3</th>\n",
       "      <td>2,5</td>\n",
       "      <td>2</td>\n",
       "      <td>0.006192</td>\n",
       "    </tr>\n",
       "    <tr>\n",
       "      <th>4</th>\n",
       "      <td>3</td>\n",
       "      <td>14</td>\n",
       "      <td>0.043344</td>\n",
       "    </tr>\n",
       "    <tr>\n",
       "      <th>5</th>\n",
       "      <td>3,4</td>\n",
       "      <td>2</td>\n",
       "      <td>0.006192</td>\n",
       "    </tr>\n",
       "    <tr>\n",
       "      <th>6</th>\n",
       "      <td>3,5</td>\n",
       "      <td>1</td>\n",
       "      <td>0.003096</td>\n",
       "    </tr>\n",
       "    <tr>\n",
       "      <th>7</th>\n",
       "      <td>4</td>\n",
       "      <td>41</td>\n",
       "      <td>0.126935</td>\n",
       "    </tr>\n",
       "    <tr>\n",
       "      <th>8</th>\n",
       "      <td>4,5</td>\n",
       "      <td>1</td>\n",
       "      <td>0.003096</td>\n",
       "    </tr>\n",
       "    <tr>\n",
       "      <th>9</th>\n",
       "      <td>5</td>\n",
       "      <td>226</td>\n",
       "      <td>0.699690</td>\n",
       "    </tr>\n",
       "    <tr>\n",
       "      <th>10</th>\n",
       "      <td>5,4</td>\n",
       "      <td>1</td>\n",
       "      <td>0.003096</td>\n",
       "    </tr>\n",
       "  </tbody>\n",
       "</table>\n",
       "</div>"
      ],
      "text/plain": [
       "   Hear_About  count  Probability\n",
       "0           1     22     0.068111\n",
       "1         1,5      1     0.003096\n",
       "2           2     12     0.037152\n",
       "3         2,5      2     0.006192\n",
       "4           3     14     0.043344\n",
       "5         3,4      2     0.006192\n",
       "6         3,5      1     0.003096\n",
       "7           4     41     0.126935\n",
       "8         4,5      1     0.003096\n",
       "9           5    226     0.699690\n",
       "10        5,4      1     0.003096"
      ]
     },
     "metadata": {},
     "output_type": "display_data"
    },
    {
     "name": "stdout",
     "output_type": "stream",
     "text": [
      "Is is seen that 4(website) = 12 % and 5(word of mouth) = 69.9% have the highes values and the audiance heard about the film series solely through word of mouth\n"
     ]
    }
   ],
   "source": [
    "FilmsData.head()\n",
    "# Scale foe Hear_About\n",
    "# 1 = television;\n",
    "# 2 =newspaper; \n",
    "# 3 = radio; \n",
    "# 4 = website; \n",
    "# 5 = word of mouth\n",
    "\n",
    "\n",
    "Hear_About_demo = FilmsData.groupby(\"Hear_About\")[[\"Hear_About\"]].count()\n",
    "Hear_About_demo = Hear_About_demo.rename( columns={'Hear_About': 'count'}).reset_index()\n",
    "Hear_About_demo[\"Probability\"] = Hear_About_demo[\"count\"] / Hear_About_demo[\"count\"].sum()\n",
    "display(Hear_About_demo)\n",
    "print(\"Is is seen that 4(website) = 12 % and 5(word of mouth) = 69.9% have the highes values and the audiance heard about the film series solely through word of mouth\")"
   ]
  },
  {
   "cell_type": "code",
   "execution_count": null,
   "id": "93a515ed",
   "metadata": {},
   "outputs": [],
   "source": []
  }
 ],
 "metadata": {
  "kernelspec": {
   "display_name": "Python 3 (ipykernel)",
   "language": "python",
   "name": "python3"
  },
  "language_info": {
   "codemirror_mode": {
    "name": "ipython",
    "version": 3
   },
   "file_extension": ".py",
   "mimetype": "text/x-python",
   "name": "python",
   "nbconvert_exporter": "python",
   "pygments_lexer": "ipython3",
   "version": "3.9.7"
  }
 },
 "nbformat": 4,
 "nbformat_minor": 5
}
